{
 "cells": [
  {
   "cell_type": "code",
   "execution_count": 1,
   "id": "f6819f32",
   "metadata": {
    "scrolled": true
   },
   "outputs": [
    {
     "data": {
      "text/html": [
       "\n",
       "        <div>\n",
       "            <p><b>SparkContext</b></p>\n",
       "\n",
       "            <p><a href=\"http://kenneth-VirtualBox.station:4043\">Spark UI</a></p>\n",
       "\n",
       "            <dl>\n",
       "              <dt>Version</dt>\n",
       "                <dd><code>v3.4.2</code></dd>\n",
       "              <dt>Master</dt>\n",
       "                <dd><code>local[*]</code></dd>\n",
       "              <dt>AppName</dt>\n",
       "                <dd><code>PySparkShell</code></dd>\n",
       "            </dl>\n",
       "        </div>\n",
       "        "
      ],
      "text/plain": [
       "<SparkContext master=local[*] appName=PySparkShell>"
      ]
     },
     "execution_count": 1,
     "metadata": {},
     "output_type": "execute_result"
    }
   ],
   "source": [
    "sc"
   ]
  },
  {
   "cell_type": "code",
   "execution_count": 6,
   "id": "24b811b3",
   "metadata": {},
   "outputs": [],
   "source": [
    "import cv2\n",
    "import pandas as pd\n",
    "import os\n",
    "import matplotlib.pyplot as plt\n",
    "import numpy as np"
   ]
  },
  {
   "cell_type": "code",
   "execution_count": 7,
   "id": "bb93b372",
   "metadata": {},
   "outputs": [],
   "source": [
    "from pyspark import SparkContext\n",
    "sc = SparkContext.getOrCreate()\n",
    "images_df= sc.binaryFiles(\"/ADACA1/futbol,/ADACA1/Rugby\")"
   ]
  },
  {
   "cell_type": "code",
   "execution_count": 8,
   "id": "dd545eb2",
   "metadata": {},
   "outputs": [
    {
     "data": {
      "text/plain": [
       "org.apache.spark.api.java.JavaPairRDD@d4b494d"
      ]
     },
     "execution_count": 8,
     "metadata": {},
     "output_type": "execute_result"
    }
   ],
   "source": [
    "images_df"
   ]
  },
  {
   "cell_type": "code",
   "execution_count": 9,
   "id": "40ed9b1b",
   "metadata": {},
   "outputs": [
    {
     "name": "stderr",
     "output_type": "stream",
     "text": [
      "                                                                                \r"
     ]
    }
   ],
   "source": [
    "from PIL import Image\n",
    "import io\n",
    "\n",
    "image_data = images_df.collect()\n",
    "image_pixels = []\n",
    "image_labels = []\n",
    "\n",
    "for image_path, image_byte in image_data:\n",
    "    image = Image.open(io.BytesIO(image_byte))\n",
    "    pixels = list(image.getdata())\n",
    "    \n",
    "    image_pixels.append(pixels)\n",
    "    image_labels.append(image_path.split('/')[-1])  \n",
    "\n",
    "df = pd.DataFrame({'image': image_pixels, 'label': image_labels})"
   ]
  },
  {
   "cell_type": "code",
   "execution_count": 10,
   "id": "c92340c2",
   "metadata": {
    "scrolled": true
   },
   "outputs": [
    {
     "data": {
      "text/html": [
       "<div>\n",
       "<style scoped>\n",
       "    .dataframe tbody tr th:only-of-type {\n",
       "        vertical-align: middle;\n",
       "    }\n",
       "\n",
       "    .dataframe tbody tr th {\n",
       "        vertical-align: top;\n",
       "    }\n",
       "\n",
       "    .dataframe thead th {\n",
       "        text-align: right;\n",
       "    }\n",
       "</style>\n",
       "<table border=\"1\" class=\"dataframe\">\n",
       "  <thead>\n",
       "    <tr style=\"text-align: right;\">\n",
       "      <th></th>\n",
       "      <th>image</th>\n",
       "      <th>label</th>\n",
       "    </tr>\n",
       "  </thead>\n",
       "  <tbody>\n",
       "    <tr>\n",
       "      <th>0</th>\n",
       "      <td>[(193, 185, 148), (193, 185, 148), (194, 186, ...</td>\n",
       "      <td>futbol_001.jpg</td>\n",
       "    </tr>\n",
       "    <tr>\n",
       "      <th>1</th>\n",
       "      <td>[(25, 33, 20), (22, 30, 17), (22, 30, 19), (26...</td>\n",
       "      <td>futbol_002.jpeg</td>\n",
       "    </tr>\n",
       "    <tr>\n",
       "      <th>2</th>\n",
       "      <td>[(58, 64, 54), (67, 73, 63), (52, 55, 46), (55...</td>\n",
       "      <td>futbol_003.jpeg</td>\n",
       "    </tr>\n",
       "    <tr>\n",
       "      <th>3</th>\n",
       "      <td>[(0, 0, 0, 0), (0, 0, 0, 0), (0, 0, 0, 0), (0,...</td>\n",
       "      <td>futbol_004.png</td>\n",
       "    </tr>\n",
       "    <tr>\n",
       "      <th>4</th>\n",
       "      <td>[(208, 196, 172), (208, 196, 172), (208, 196, ...</td>\n",
       "      <td>futbol_005.jpg</td>\n",
       "    </tr>\n",
       "  </tbody>\n",
       "</table>\n",
       "</div>"
      ],
      "text/plain": [
       "                                               image            label\n",
       "0  [(193, 185, 148), (193, 185, 148), (194, 186, ...   futbol_001.jpg\n",
       "1  [(25, 33, 20), (22, 30, 17), (22, 30, 19), (26...  futbol_002.jpeg\n",
       "2  [(58, 64, 54), (67, 73, 63), (52, 55, 46), (55...  futbol_003.jpeg\n",
       "3  [(0, 0, 0, 0), (0, 0, 0, 0), (0, 0, 0, 0), (0,...   futbol_004.png\n",
       "4  [(208, 196, 172), (208, 196, 172), (208, 196, ...   futbol_005.jpg"
      ]
     },
     "execution_count": 10,
     "metadata": {},
     "output_type": "execute_result"
    }
   ],
   "source": [
    "df.head()"
   ]
  },
  {
   "cell_type": "code",
   "execution_count": 11,
   "id": "7f8d0cfd",
   "metadata": {},
   "outputs": [
    {
     "data": {
      "text/plain": [
       "(42, 2)"
      ]
     },
     "execution_count": 11,
     "metadata": {},
     "output_type": "execute_result"
    }
   ],
   "source": [
    "df.shape"
   ]
  },
  {
   "cell_type": "code",
   "execution_count": 12,
   "id": "776d65f1",
   "metadata": {},
   "outputs": [
    {
     "data": {
      "text/plain": [
       "pandas.core.frame.DataFrame"
      ]
     },
     "execution_count": 12,
     "metadata": {},
     "output_type": "execute_result"
    }
   ],
   "source": [
    "type(df)"
   ]
  },
  {
   "cell_type": "code",
   "execution_count": 13,
   "id": "1f282635",
   "metadata": {},
   "outputs": [],
   "source": [
    "#normalize the data\n",
    "df['image'] = df['image'].apply(lambda x: [pixel/255 if isinstance(pixel, int) else tuple(p/255 for p in pixel) for pixel in x])"
   ]
  },
  {
   "cell_type": "code",
   "execution_count": 14,
   "id": "f397a1f6",
   "metadata": {},
   "outputs": [
    {
     "data": {
      "text/html": [
       "<div>\n",
       "<style scoped>\n",
       "    .dataframe tbody tr th:only-of-type {\n",
       "        vertical-align: middle;\n",
       "    }\n",
       "\n",
       "    .dataframe tbody tr th {\n",
       "        vertical-align: top;\n",
       "    }\n",
       "\n",
       "    .dataframe thead th {\n",
       "        text-align: right;\n",
       "    }\n",
       "</style>\n",
       "<table border=\"1\" class=\"dataframe\">\n",
       "  <thead>\n",
       "    <tr style=\"text-align: right;\">\n",
       "      <th></th>\n",
       "      <th>image</th>\n",
       "      <th>label</th>\n",
       "    </tr>\n",
       "  </thead>\n",
       "  <tbody>\n",
       "    <tr>\n",
       "      <th>0</th>\n",
       "      <td>[(0.7568627450980392, 0.7254901960784313, 0.58...</td>\n",
       "      <td>futbol_001.jpg</td>\n",
       "    </tr>\n",
       "    <tr>\n",
       "      <th>1</th>\n",
       "      <td>[(0.09803921568627451, 0.12941176470588237, 0....</td>\n",
       "      <td>futbol_002.jpeg</td>\n",
       "    </tr>\n",
       "    <tr>\n",
       "      <th>2</th>\n",
       "      <td>[(0.22745098039215686, 0.25098039215686274, 0....</td>\n",
       "      <td>futbol_003.jpeg</td>\n",
       "    </tr>\n",
       "    <tr>\n",
       "      <th>3</th>\n",
       "      <td>[(0.0, 0.0, 0.0, 0.0), (0.0, 0.0, 0.0, 0.0), (...</td>\n",
       "      <td>futbol_004.png</td>\n",
       "    </tr>\n",
       "    <tr>\n",
       "      <th>4</th>\n",
       "      <td>[(0.8156862745098039, 0.7686274509803922, 0.67...</td>\n",
       "      <td>futbol_005.jpg</td>\n",
       "    </tr>\n",
       "  </tbody>\n",
       "</table>\n",
       "</div>"
      ],
      "text/plain": [
       "                                               image            label\n",
       "0  [(0.7568627450980392, 0.7254901960784313, 0.58...   futbol_001.jpg\n",
       "1  [(0.09803921568627451, 0.12941176470588237, 0....  futbol_002.jpeg\n",
       "2  [(0.22745098039215686, 0.25098039215686274, 0....  futbol_003.jpeg\n",
       "3  [(0.0, 0.0, 0.0, 0.0), (0.0, 0.0, 0.0, 0.0), (...   futbol_004.png\n",
       "4  [(0.8156862745098039, 0.7686274509803922, 0.67...   futbol_005.jpg"
      ]
     },
     "execution_count": 14,
     "metadata": {},
     "output_type": "execute_result"
    }
   ],
   "source": [
    "df.head()"
   ]
  },
  {
   "cell_type": "code",
   "execution_count": 15,
   "id": "3415515b",
   "metadata": {
    "scrolled": true
   },
   "outputs": [],
   "source": [
    "\n",
    "target_size = (100, 100)\n",
    "\n",
    "# Function to resize or crop images\n",
    "def resize_image(image_data):\n",
    "    image = Image.fromarray(np.array(image_data))  # Convert list to array\n",
    "    image = image.resize(target_size)\n",
    "    return np.array(image)\n",
    "\n",
    "# Apply the resize_image function to the 'image' column in the DataFrame\n",
    "df['image'] = df['image'].apply(resize_image)"
   ]
  },
  {
   "cell_type": "code",
   "execution_count": 16,
   "id": "2725f7e9",
   "metadata": {},
   "outputs": [
    {
     "name": "stderr",
     "output_type": "stream",
     "text": [
      "/usr/lib/python3/dist-packages/scipy/__init__.py:146: UserWarning: A NumPy version >=1.17.3 and <1.25.0 is required for this version of SciPy (detected version 1.26.4\n",
      "  warnings.warn(f\"A NumPy version >={np_minversion} and <{np_maxversion}\"\n"
     ]
    },
    {
     "name": "stdout",
     "output_type": "stream",
     "text": [
      "Training set shape: (33, 100, 100) (33,)\n",
      "Testing set shape: (9, 100, 100) (9,)\n"
     ]
    }
   ],
   "source": [
    "from sklearn.model_selection import train_test_split\n",
    "\n",
    "# Define features (X) and labels (y)\n",
    "X = np.array(df['image'].tolist())\n",
    "y = df['label']\n",
    "\n",
    "# Split the data into training and testing sets (e.g., 80% training, 20% testing)\n",
    "X_train, X_test, y_train, y_test = train_test_split(X, y, test_size=0.2, random_state=42)\n",
    "\n",
    "# Ensure the shapes of the training and testing sets\n",
    "print(\"Training set shape:\", X_train.shape, y_train.shape)\n",
    "print(\"Testing set shape:\", X_test.shape, y_test.shape)"
   ]
  },
  {
   "cell_type": "code",
   "execution_count": 2,
   "id": "abbfc1b5",
   "metadata": {},
   "outputs": [
    {
     "name": "stdout",
     "output_type": "stream",
     "text": [
      "Defaulting to user installation because normal site-packages is not writeable\n",
      "Requirement already satisfied: numpy in /home/hduser/.local/lib/python3.10/site-packages (1.26.4)\n",
      "Note: you may need to restart the kernel to use updated packages.\n"
     ]
    }
   ],
   "source": [
    "pip install numpy"
   ]
  },
  {
   "cell_type": "code",
   "execution_count": 1,
   "id": "b42f6351-47b2-4c3e-815d-7c83cd68dc04",
   "metadata": {
    "scrolled": false
   },
   "outputs": [
    {
     "name": "stdout",
     "output_type": "stream",
     "text": [
      "\u001b[33mWARNING: Package(s) not found: tensorflow\u001b[0m\u001b[33m\n",
      "\u001b[0mNote: you may need to restart the kernel to use updated packages.\n"
     ]
    }
   ],
   "source": [
    "pip show tensorflow"
   ]
  },
  {
   "cell_type": "code",
   "execution_count": null,
   "id": "b9912620",
   "metadata": {
    "scrolled": true
   },
   "outputs": [],
   "source": [
    "import tensorflow as tf"
   ]
  },
  {
   "cell_type": "code",
   "execution_count": null,
   "id": "fba4dc37",
   "metadata": {},
   "outputs": [],
   "source": [
    "from tensorflow.keras import layers, models"
   ]
  },
  {
   "cell_type": "code",
   "execution_count": null,
   "id": "043e5071-6bcb-4e9f-9c0c-99d60531eeca",
   "metadata": {},
   "outputs": [],
   "source": []
  },
  {
   "cell_type": "code",
   "execution_count": null,
   "id": "de0fa869-4b67-468a-80e8-3c5d35e29a9e",
   "metadata": {},
   "outputs": [],
   "source": []
  },
  {
   "cell_type": "code",
   "execution_count": null,
   "id": "1bf85bc6-b272-4b42-9046-04da977c9051",
   "metadata": {},
   "outputs": [],
   "source": []
  },
  {
   "cell_type": "code",
   "execution_count": null,
   "id": "61854626-3a09-4f92-ac30-c2d9605cbb91",
   "metadata": {},
   "outputs": [],
   "source": []
  }
 ],
 "metadata": {
  "kernelspec": {
   "display_name": "CA-1",
   "language": "python",
   "name": "ca-1"
  },
  "language_info": {
   "codemirror_mode": {
    "name": "ipython",
    "version": 3
   },
   "file_extension": ".py",
   "mimetype": "text/x-python",
   "name": "python",
   "nbconvert_exporter": "python",
   "pygments_lexer": "ipython3",
   "version": "3.10.12"
  }
 },
 "nbformat": 4,
 "nbformat_minor": 5
}
